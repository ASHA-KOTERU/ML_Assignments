{
 "cells": [
  {
   "cell_type": "code",
   "execution_count": 1,
   "metadata": {},
   "outputs": [
    {
     "name": "stderr",
     "output_type": "stream",
     "text": [
      "/home/asha/anaconda2/lib/python2.7/site-packages/h5py/__init__.py:36: FutureWarning: Conversion of the second argument of issubdtype from `float` to `np.floating` is deprecated. In future, it will be treated as `np.float64 == np.dtype(float).type`.\n",
      "  from ._conv import register_converters as _register_converters\n"
     ]
    }
   ],
   "source": [
    "import cv2\n",
    "import numpy as np\n",
    "import tensorflow as tf\n",
    "import pandas as pd\n",
    "import glob\n",
    "import os\n",
    "from os.path import basename\n",
    "import re"
   ]
  },
  {
   "cell_type": "code",
   "execution_count": 2,
   "metadata": {},
   "outputs": [
    {
     "data": {
      "text/plain": [
       "4750"
      ]
     },
     "execution_count": 2,
     "metadata": {},
     "output_type": "execute_result"
    }
   ],
   "source": [
    "file_names=glob.glob(\"./all/train/**/*.png\")\n",
    "len(file_names)"
   ]
  },
  {
   "cell_type": "code",
   "execution_count": 3,
   "metadata": {},
   "outputs": [
    {
     "data": {
      "text/plain": [
       "'./all/train/Cleavers/c9576e39e.png'"
      ]
     },
     "execution_count": 3,
     "metadata": {},
     "output_type": "execute_result"
    }
   ],
   "source": [
    "file_names[0]"
   ]
  },
  {
   "cell_type": "code",
   "execution_count": 4,
   "metadata": {},
   "outputs": [],
   "source": [
    "#get the label from the pathname\n",
    "y_list=[]\n",
    "for file_name in file_names:\n",
    "    y_list.append(re.sub(r'\\s', '', file_name).split('/')[3])\n",
    "y_list=np.array(y_list)\n"
   ]
  },
  {
   "cell_type": "code",
   "execution_count": 5,
   "metadata": {},
   "outputs": [],
   "source": [
    "# function to convert labels in to numbers\n",
    "def names_to_numbers(y_train):\n",
    "    unq=np.unique(y_train)\n",
    "    n=len(unq)\n",
    "    numbers = list(range(0, n))\n",
    "    y_dict=dict(zip(unq,numbers))\n",
    "    y_true=[]\n",
    "    for label in y_train:\n",
    "        n=y_dict[label]\n",
    "        y_true.append(n)\n",
    "    return y_true"
   ]
  },
  {
   "cell_type": "code",
   "execution_count": 6,
   "metadata": {},
   "outputs": [],
   "source": [
    "labels=names_to_numbers(y_list)"
   ]
  },
  {
   "cell_type": "code",
   "execution_count": 7,
   "metadata": {},
   "outputs": [],
   "source": [
    "#divide train and test data\n",
    "from sklearn.model_selection import train_test_split\n",
    "X_train, X_test, y_train, y_test = train_test_split( file_names, labels, test_size=0.2)"
   ]
  },
  {
   "cell_type": "code",
   "execution_count": 8,
   "metadata": {},
   "outputs": [
    {
     "name": "stdout",
     "output_type": "stream",
     "text": [
      "3800\n",
      "950\n"
     ]
    }
   ],
   "source": [
    "print len(X_train)\n",
    "print len(X_test)"
   ]
  },
  {
   "cell_type": "code",
   "execution_count": 9,
   "metadata": {},
   "outputs": [],
   "source": [
    "#function for mapping feartures and labels\n",
    "def parse_function(filename, label):\n",
    "    image_string = tf.read_file(filename)\n",
    "\n",
    "    # Don't use tf.image.decode_image, or the output shape will be undefined\n",
    "    image = tf.image.decode_jpeg(image_string, channels=3)\n",
    "\n",
    "    # This will convert to float values in [0, 1]\n",
    "    image = tf.image.convert_image_dtype(image, tf.float32)\n",
    "\n",
    "    image = tf.image.resize_images(image, [224,224])\n",
    "    \n",
    "    return image, label"
   ]
  },
  {
   "cell_type": "code",
   "execution_count": 10,
   "metadata": {},
   "outputs": [],
   "source": [
    "batch_size=32"
   ]
  },
  {
   "cell_type": "code",
   "execution_count": 11,
   "metadata": {},
   "outputs": [],
   "source": [
    "#creating tensorflow datasets for train data\n",
    "labels_train=tf.one_hot(y_train,12)\n",
    "dataset=tf.data.Dataset.from_tensor_slices((X_train,labels_train))\n",
    "dataset=dataset.map(parse_function)\n",
    "dataset=dataset.shuffle(buffer_size=100)\n",
    "dataset=dataset.batch(batch_size)\n"
   ]
  },
  {
   "cell_type": "code",
   "execution_count": 12,
   "metadata": {},
   "outputs": [],
   "source": [
    "#iterators for train data\n",
    "iterator = dataset.make_initializable_iterator()\n",
    "def train_data():\n",
    "    x,y = iterator.get_next()\n",
    "    return x,y"
   ]
  },
  {
   "cell_type": "code",
   "execution_count": 13,
   "metadata": {},
   "outputs": [],
   "source": [
    "##creating tensorflow datasets for test data\n",
    "labels_test=tf.one_hot(y_test,12)\n",
    "dataset_test=tf.data.Dataset.from_tensor_slices((X_test,labels_test))\n",
    "dataset_test=dataset_test.map(parse_function)\n",
    "dataset_test=dataset_test.batch(batch_size)"
   ]
  },
  {
   "cell_type": "code",
   "execution_count": 14,
   "metadata": {},
   "outputs": [],
   "source": [
    "#iterators  for test data\n",
    "iterator_test = dataset_test.make_initializable_iterator()\n",
    "def test_data():  \n",
    "    x,y = iterator_test.get_next()\n",
    "    return x,y"
   ]
  },
  {
   "cell_type": "code",
   "execution_count": 15,
   "metadata": {},
   "outputs": [],
   "source": [
    "#boolean to decide train data or test data to the module\n",
    "a = tf.placeholder(tf.bool)  \n",
    "x,y= tf.cond(tf.equal(a, tf.constant(True)), lambda:train_data(), lambda:test_data())"
   ]
  },
  {
   "cell_type": "code",
   "execution_count": 16,
   "metadata": {},
   "outputs": [
    {
     "name": "stdout",
     "output_type": "stream",
     "text": [
      "WARNING:tensorflow:From <ipython-input-16-befc06d1784a>:26: softmax_cross_entropy_with_logits (from tensorflow.python.ops.nn_ops) is deprecated and will be removed in a future version.\n",
      "Instructions for updating:\n",
      "\n",
      "Future major versions of TensorFlow will allow gradients to flow\n",
      "into the labels input on backprop by default.\n",
      "\n",
      "See @{tf.nn.softmax_cross_entropy_with_logits_v2}.\n",
      "\n"
     ]
    }
   ],
   "source": [
    "conv1=tf.layers.conv2d(x,32,3,strides=1,activation=tf.nn.relu)  \n",
    "conv1=tf.layers.max_pooling2d(conv1,2,2,padding='SAME')\n",
    "conv1=tf.layers.batch_normalization(conv1)\n",
    "\n",
    "    \n",
    "#convolution, relu and max poling for layer 2\n",
    "conv2=tf.layers.conv2d(conv1,64,5,strides=1,activation=tf.nn.relu)  \n",
    "conv2=tf.layers.max_pooling2d(conv2,2,2,padding='SAME')\n",
    "conv2=tf.layers.batch_normalization(conv2)\n",
    "\n",
    "\n",
    "#conv3=tf.layers.conv2d(conv2,128,5,strides=1,activation=tf.nn.relu)  \n",
    "#conv3=tf.layers.max_pooling2d(conv3,2,2,padding='SAME')\n",
    "#conv3=tf.layers.batch_normalization(conv3)\n",
    "\n",
    "\n",
    "fc1=tf.contrib.layers.flatten(conv2)\n",
    "#fully connected layer\n",
    "fc1=tf.layers.dense(inputs=fc1, units=1024,activation=tf.nn.relu)\n",
    "fc2=tf.layers.dense(inputs=fc1, units=512,activation=tf.nn.relu)\n",
    "logits=tf.layers.dense(inputs=fc2, units=12)\n",
    "#softmax for probabilities\n",
    "#prob=tf.nn.softmax(logits)\n",
    "    \n",
    "#calculating loss\n",
    "loss_op = tf.reduce_mean(tf.nn.softmax_cross_entropy_with_logits(logits=logits, labels=y))\n",
    "optimizer = tf.train.AdamOptimizer(learning_rate=0.0001)\n",
    "train_op = optimizer.minimize(loss_op)\n",
    "    \n",
    "#calculating accuracy\n",
    "correct_pred = tf.equal(tf.argmax(logits, 1), tf.argmax(y, 1))\n",
    "accuracy = tf.reduce_mean(tf.cast(correct_pred, tf.float32))"
   ]
  },
  {
   "cell_type": "code",
   "execution_count": 17,
   "metadata": {},
   "outputs": [],
   "source": [
    "init=tf.global_variables_initializer()"
   ]
  },
  {
   "cell_type": "code",
   "execution_count": 18,
   "metadata": {},
   "outputs": [
    {
     "name": "stdout",
     "output_type": "stream",
     "text": [
      "118\n",
      "29\n"
     ]
    }
   ],
   "source": [
    "batches=len(X_train)/batch_size\n",
    "batches=int(batches)\n",
    "epochs=7\n",
    "print batches\n",
    "batches_test=len(X_test)/batch_size\n",
    "print batches_test"
   ]
  },
  {
   "cell_type": "code",
   "execution_count": 19,
   "metadata": {},
   "outputs": [],
   "source": [
    "\n",
    "loss_train=[]\n",
    "accuracy_train=[]\n",
    "\n",
    "loss_val=[]\n",
    "accuracy_val=[]\n",
    "\n",
    "loss_test=[]\n",
    "accuracy_test=[]"
   ]
  },
  {
   "cell_type": "code",
   "execution_count": 20,
   "metadata": {},
   "outputs": [
    {
     "name": "stdout",
     "output_type": "stream",
     "text": [
      "Epoch: 0 running\n",
      "batch 0 loss: 2.516499 accuracy 0.0\n",
      "validation data loss 2.5368552 accuracy 0.125\n",
      "batch 50 loss: 1.9895718 accuracy 0.4375\n",
      "validation data loss 1.8665967 accuracy 0.4375\n",
      "batch 100 loss: 1.5999887 accuracy 0.375\n",
      "validation data loss 1.4597654 accuracy 0.53125\n",
      "Epoch: 0 ended\n",
      "Epoch: 1 running\n",
      "batch 0 loss: 1.4252964 accuracy 0.5625\n",
      "validation data loss 1.3145301 accuracy 0.5625\n",
      "batch 50 loss: 1.0114232 accuracy 0.5625\n",
      "validation data loss 1.224055 accuracy 0.5625\n",
      "batch 100 loss: 0.8715937 accuracy 0.75\n",
      "validation data loss 1.1480889 accuracy 0.59375\n",
      "Epoch: 1 ended\n",
      "Epoch: 2 running\n",
      "batch 0 loss: 0.90140057 accuracy 0.71875\n",
      "validation data loss 1.1163316 accuracy 0.53125\n",
      "batch 50 loss: 0.59741604 accuracy 0.875\n",
      "validation data loss 1.0218728 accuracy 0.59375\n",
      "batch 100 loss: 0.72936416 accuracy 0.75\n",
      "validation data loss 0.9656076 accuracy 0.71875\n",
      "Epoch: 2 ended\n",
      "Epoch: 3 running\n",
      "batch 0 loss: 0.74706256 accuracy 0.75\n",
      "validation data loss 0.9118138 accuracy 0.6875\n",
      "batch 50 loss: 0.7067968 accuracy 0.84375\n",
      "validation data loss 1.0423102 accuracy 0.71875\n",
      "batch 100 loss: 0.640147 accuracy 0.78125\n",
      "validation data loss 0.8838819 accuracy 0.71875\n",
      "Epoch: 3 ended\n",
      "Epoch: 4 running\n",
      "batch 0 loss: 0.61652994 accuracy 0.78125\n",
      "validation data loss 0.80091774 accuracy 0.75\n",
      "batch 50 loss: 0.19148874 accuracy 0.9375\n",
      "validation data loss 0.9429194 accuracy 0.71875\n",
      "batch 100 loss: 0.45876622 accuracy 0.90625\n",
      "validation data loss 0.86286455 accuracy 0.59375\n",
      "Epoch: 4 ended\n",
      "Epoch: 5 running\n",
      "batch 0 loss: 0.2096456 accuracy 0.96875\n",
      "validation data loss 0.7728272 accuracy 0.78125\n",
      "batch 50 loss: 0.49633902 accuracy 0.84375\n",
      "validation data loss 0.9822007 accuracy 0.75\n",
      "batch 100 loss: 0.30247062 accuracy 0.90625\n",
      "validation data loss 1.0940804 accuracy 0.65625\n",
      "Epoch: 5 ended\n",
      "Epoch: 6 running\n",
      "batch 0 loss: 0.10051984 accuracy 0.96875\n",
      "validation data loss 0.8016263 accuracy 0.78125\n",
      "batch 50 loss: 0.30267385 accuracy 0.9375\n",
      "validation data loss 0.9319201 accuracy 0.6875\n",
      "batch 100 loss: 0.23232898 accuracy 0.90625\n",
      "validation data loss 0.8582 accuracy 0.78125\n",
      "Epoch: 6 ended\n",
      "optimazion finished\n",
      "Model running on test data \n",
      "Accuracy for testing data: 0.7176724137931034\n"
     ]
    }
   ],
   "source": [
    "with tf.Session() as sess:\n",
    "    sess.run(init)\n",
    "    sess.run(iterator_test.initializer)  \n",
    "    for epoch in range(epochs):\n",
    "        sess.run(iterator.initializer)\n",
    "        print \"Epoch:\",epoch ,\"running\"\n",
    "        for batch in range(batches):\n",
    "            loss,acc,_=sess.run([loss_op,accuracy,train_op],feed_dict={a:True})\n",
    "            accuracy_train.append(acc)\n",
    "            loss_train.append(loss)\n",
    "            if batch%50==0:\n",
    "                print \"batch\",batch,\"loss:\",loss,\"accuracy\",acc\n",
    "                sess.run(iterator_test.initializer) \n",
    "                l_v,acc_v=sess.run([loss_op,accuracy],feed_dict={a:False})\n",
    "                accuracy_val.append(acc_v)\n",
    "                loss_val.append(l_v)\n",
    "                print \"validation data loss\",l_v,\"accuracy\",acc_v\n",
    "                     \n",
    "        print \"Epoch:\",epoch,\"ended\"\n",
    "    print \"optimazion finished\"\n",
    "    \n",
    "    print \"Model running on test data \"\n",
    "    sess.run(iterator_test.initializer)\n",
    "    for batch in range(batches_test):\n",
    "        l_t,acc_t=sess.run([loss_op,accuracy],feed_dict={a:False})\n",
    "        accuracy_test.append(acc_t)\n",
    "        loss_test.append(l_t)\n",
    "        \n",
    "    n=sum(accuracy_test)/len(accuracy_test)\n",
    "    print \"Accuracy for testing data:\",n\n",
    "    \n",
    "      \n",
    "   "
   ]
  },
  {
   "cell_type": "code",
   "execution_count": 21,
   "metadata": {},
   "outputs": [],
   "source": [
    "import matplotlib.pyplot as plt"
   ]
  },
  {
   "cell_type": "code",
   "execution_count": 22,
   "metadata": {},
   "outputs": [
    {
     "data": {
      "image/png": "[encoded data removed]",
      "text/plain": [
       "<Figure size 432x288 with 1 Axes>"
      ]
     },
     "metadata": {},
     "output_type": "display_data"
    }
   ],
   "source": [
    "\n",
    "\n",
    "fig, ax = plt.subplots()\n",
    "ax.set_xlabel(\"iterations\")\n",
    "ax.set_ylabel(r\"loss\")\n",
    "ax.plot(loss_train)\n",
    "ax.set_title(\"loss for train data\")\n",
    "plt.show()\n"
   ]
  },
  {
   "cell_type": "code",
   "execution_count": null,
   "metadata": {},
   "outputs": [],
   "source": []
  },
  {
   "cell_type": "code",
   "execution_count": 23,
   "metadata": {},
   "outputs": [
    {
     "data": {
      "image/png": "[encoded data removed]",
      "text/plain": [
       "<Figure size 432x288 with 1 Axes>"
      ]
     },
     "metadata": {},
     "output_type": "display_data"
    }
   ],
   "source": [
    "\n",
    "fig, ax = plt.subplots()\n",
    "ax.set_xlabel(\"iterations\")\n",
    "ax.set_ylabel(r\"accuracy\")\n",
    "ax.plot(accuracy_train)\n",
    "ax.set_title(\"Accuracy for train data\")\n",
    "plt.show()\n"
   ]
  },
  {
   "cell_type": "code",
   "execution_count": 24,
   "metadata": {},
   "outputs": [
    {
     "data": {
      "image/png": "[encoded data removed]",
      "text/plain": [
       "<Figure size 432x288 with 1 Axes>"
      ]
     },
     "metadata": {},
     "output_type": "display_data"
    }
   ],
   "source": [
    "fig, ax = plt.subplots()\n",
    "ax.set_xlabel(\"iterations\")\n",
    "ax.set_ylabel(r\"loss\")\n",
    "ax.plot(loss_val)\n",
    "ax.set_title(\"Loss for validation data\")\n",
    "plt.show()\n"
   ]
  },
  {
   "cell_type": "code",
   "execution_count": 25,
   "metadata": {},
   "outputs": [
    {
     "data": {
      "image/png": "[encoded data removed]",
      "text/plain": [
       "<Figure size 432x288 with 1 Axes>"
      ]
     },
     "metadata": {},
     "output_type": "display_data"
    }
   ],
   "source": [
    "fig, ax = plt.subplots()\n",
    "ax.set_xlabel(\"iterations\")\n",
    "ax.set_ylabel(r\"accuracy\")\n",
    "ax.plot(accuracy_val)\n",
    "ax.set_title(\"Accuracy for validation data\")\n",
    "plt.show()"
   ]
  },
  {
   "cell_type": "code",
   "execution_count": null,
   "metadata": {},
   "outputs": [],
   "source": [
    "\n",
    "    "
   ]
  },
  {
   "cell_type": "code",
   "execution_count": null,
   "metadata": {},
   "outputs": [],
   "source": []
  },
  {
   "cell_type": "code",
   "execution_count": null,
   "metadata": {},
   "outputs": [],
   "source": []
  }
 ],
 "metadata": {
  "kernelspec": {
   "display_name": "Python 2",
   "language": "python",
   "name": "python2"
  },
  "language_info": {
   "codemirror_mode": {
    "name": "ipython",
    "version": 2
   },
   "file_extension": ".py",
   "mimetype": "text/x-python",
   "name": "python",
   "nbconvert_exporter": "python",
   "pygments_lexer": "ipython2",
   "version": "2.7.15"
  }
 },
 "nbformat": 4,
 "nbformat_minor": 2
}
